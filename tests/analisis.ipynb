{
 "metadata": {
  "language_info": {
   "codemirror_mode": {
    "name": "ipython",
    "version": 3
   },
   "file_extension": ".py",
   "mimetype": "text/x-python",
   "name": "python",
   "nbconvert_exporter": "python",
   "pygments_lexer": "ipython3",
   "version": "3.8.2-final"
  },
  "orig_nbformat": 2,
  "kernelspec": {
   "name": "python38264bitfa090cc52a7246a597daeac7cb2e204b",
   "display_name": "Python 3.8.2 64-bit"
  }
 },
 "nbformat": 4,
 "nbformat_minor": 2,
 "cells": [
  {
   "cell_type": "code",
   "execution_count": 1,
   "metadata": {},
   "outputs": [],
   "source": [
    "import pandas as pd"
   ]
  },
  {
   "cell_type": "code",
   "execution_count": 2,
   "metadata": {},
   "outputs": [],
   "source": [
    "df = pd.read_csv('../data/covid19_tweets.csv')"
   ]
  },
  {
   "cell_type": "code",
   "execution_count": 4,
   "metadata": {},
   "outputs": [
    {
     "output_type": "execute_result",
     "data": {
      "text/plain": "         user_name         user_location  \\\n0           ᏉᎥ☻լꂅϮ            astroworld   \n1    Tom Basile 🇺🇸          New York, NY   \n2  Time4fisticuffs      Pewee Valley, KY   \n3      ethel mertz  Stuck in the Middle    \n4         DIPR-J&amp;K     Jammu and Kashmir   \n\n                                    user_description         user_created  \\\n0  wednesday addams as a disney princess keepin i...  2017-05-26 05:46:42   \n1  Husband, Father, Columnist &amp; Commentator. Auth...  2009-04-16 20:06:23   \n2  #Christian #Catholic #Conservative #Reagan #Re...  2009-02-28 18:57:41   \n3  #Browns #Indians #ClevelandProud #[]_[] #Cavs ...  2019-03-07 01:45:06   \n4  🖊️Official Twitter handle of Department of Inf...  2017-02-12 06:45:15   \n\n   user_followers  user_friends  user_favourites  user_verified  \\\n0             624           950            18775          False   \n1            2253          1677               24           True   \n2            9275          9525             7254          False   \n3             197           987             1488          False   \n4          101009           168              101          False   \n\n                  date                                               text  \\\n0  2020-07-25 12:27:21  If I smelled the scent of hand sanitizers toda...   \n1  2020-07-25 12:27:17  Hey @Yankees @YankeesPR and @MLB - wouldn&#39;t it...   \n2  2020-07-25 12:27:14  @diane3443 @wdunlap @realDonaldTrump Trump nev...   \n3  2020-07-25 12:27:10  @brookbanktv The one gift #COVID19 has give me...   \n4  2020-07-25 12:27:08  25 July : Media Bulletin on Novel #CoronaVirus...   \n\n                            hashtags               source  is_retweet  \n0                                NaN   Twitter for iPhone       False  \n1                                NaN  Twitter for Android       False  \n2                        [&#39;COVID19&#39;]  Twitter for Android       False  \n3                        [&#39;COVID19&#39;]   Twitter for iPhone       False  \n4  [&#39;CoronaVirusUpdates&#39;, &#39;COVID19&#39;]  Twitter for Android       False  ",
      "text/html": "<div>\n<style scoped>\n    .dataframe tbody tr th:only-of-type {\n        vertical-align: middle;\n    }\n\n    .dataframe tbody tr th {\n        vertical-align: top;\n    }\n\n    .dataframe thead th {\n        text-align: right;\n    }\n</style>\n<table border=\"1\" class=\"dataframe\">\n  <thead>\n    <tr style=\"text-align: right;\">\n      <th></th>\n      <th>user_name</th>\n      <th>user_location</th>\n      <th>user_description</th>\n      <th>user_created</th>\n      <th>user_followers</th>\n      <th>user_friends</th>\n      <th>user_favourites</th>\n      <th>user_verified</th>\n      <th>date</th>\n      <th>text</th>\n      <th>hashtags</th>\n      <th>source</th>\n      <th>is_retweet</th>\n    </tr>\n  </thead>\n  <tbody>\n    <tr>\n      <th>0</th>\n      <td>ᏉᎥ☻լꂅϮ</td>\n      <td>astroworld</td>\n      <td>wednesday addams as a disney princess keepin i...</td>\n      <td>2017-05-26 05:46:42</td>\n      <td>624</td>\n      <td>950</td>\n      <td>18775</td>\n      <td>False</td>\n      <td>2020-07-25 12:27:21</td>\n      <td>If I smelled the scent of hand sanitizers toda...</td>\n      <td>NaN</td>\n      <td>Twitter for iPhone</td>\n      <td>False</td>\n    </tr>\n    <tr>\n      <th>1</th>\n      <td>Tom Basile 🇺🇸</td>\n      <td>New York, NY</td>\n      <td>Husband, Father, Columnist &amp; Commentator. Auth...</td>\n      <td>2009-04-16 20:06:23</td>\n      <td>2253</td>\n      <td>1677</td>\n      <td>24</td>\n      <td>True</td>\n      <td>2020-07-25 12:27:17</td>\n      <td>Hey @Yankees @YankeesPR and @MLB - wouldn't it...</td>\n      <td>NaN</td>\n      <td>Twitter for Android</td>\n      <td>False</td>\n    </tr>\n    <tr>\n      <th>2</th>\n      <td>Time4fisticuffs</td>\n      <td>Pewee Valley, KY</td>\n      <td>#Christian #Catholic #Conservative #Reagan #Re...</td>\n      <td>2009-02-28 18:57:41</td>\n      <td>9275</td>\n      <td>9525</td>\n      <td>7254</td>\n      <td>False</td>\n      <td>2020-07-25 12:27:14</td>\n      <td>@diane3443 @wdunlap @realDonaldTrump Trump nev...</td>\n      <td>['COVID19']</td>\n      <td>Twitter for Android</td>\n      <td>False</td>\n    </tr>\n    <tr>\n      <th>3</th>\n      <td>ethel mertz</td>\n      <td>Stuck in the Middle</td>\n      <td>#Browns #Indians #ClevelandProud #[]_[] #Cavs ...</td>\n      <td>2019-03-07 01:45:06</td>\n      <td>197</td>\n      <td>987</td>\n      <td>1488</td>\n      <td>False</td>\n      <td>2020-07-25 12:27:10</td>\n      <td>@brookbanktv The one gift #COVID19 has give me...</td>\n      <td>['COVID19']</td>\n      <td>Twitter for iPhone</td>\n      <td>False</td>\n    </tr>\n    <tr>\n      <th>4</th>\n      <td>DIPR-J&amp;K</td>\n      <td>Jammu and Kashmir</td>\n      <td>🖊️Official Twitter handle of Department of Inf...</td>\n      <td>2017-02-12 06:45:15</td>\n      <td>101009</td>\n      <td>168</td>\n      <td>101</td>\n      <td>False</td>\n      <td>2020-07-25 12:27:08</td>\n      <td>25 July : Media Bulletin on Novel #CoronaVirus...</td>\n      <td>['CoronaVirusUpdates', 'COVID19']</td>\n      <td>Twitter for Android</td>\n      <td>False</td>\n    </tr>\n  </tbody>\n</table>\n</div>"
     },
     "metadata": {},
     "execution_count": 4
    }
   ],
   "source": [
    "df.head(5)"
   ]
  },
  {
   "cell_type": "code",
   "execution_count": 5,
   "metadata": {},
   "outputs": [
    {
     "output_type": "execute_result",
     "data": {
      "text/plain": "Index([&#39;user_name&#39;, &#39;user_location&#39;, &#39;user_description&#39;, &#39;user_created&#39;,\n       &#39;user_followers&#39;, &#39;user_friends&#39;, &#39;user_favourites&#39;, &#39;user_verified&#39;,\n       &#39;date&#39;, &#39;text&#39;, &#39;hashtags&#39;, &#39;source&#39;, &#39;is_retweet&#39;],\n      dtype=&#39;object&#39;)"
     },
     "metadata": {},
     "execution_count": 5
    }
   ],
   "source": [
    "df.columns"
   ]
  },
  {
   "cell_type": "code",
   "execution_count": 8,
   "metadata": {},
   "outputs": [
    {
     "output_type": "execute_result",
     "data": {
      "text/plain": "0         If I smelled the scent of hand sanitizers toda...\n1         Hey @Yankees @YankeesPR and @MLB - wouldn&#39;t it...\n2         @diane3443 @wdunlap @realDonaldTrump Trump nev...\n3         @brookbanktv The one gift #COVID19 has give me...\n4         25 July : Media Bulletin on Novel #CoronaVirus...\n                                ...                        \n179103    Thanks @IamOhmai for nominating me for the @WH...\n179104    2020! The year of insanity! Lol! #COVID19 http...\n179105    @CTVNews A powerful painting by Juan Lucena. I...\n179106    More than 1,200 students test positive for #CO...\n179107    I stop when I see a Stop\\n\\n@SABCNews\\n@Izinda...\nName: text, Length: 179108, dtype: object"
     },
     "metadata": {},
     "execution_count": 8
    }
   ],
   "source": [
    "df.text"
   ]
  },
  {
   "cell_type": "code",
   "execution_count": null,
   "metadata": {},
   "outputs": [],
   "source": []
  }
 ]
}